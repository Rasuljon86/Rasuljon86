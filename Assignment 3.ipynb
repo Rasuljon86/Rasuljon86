{
 "cells": [
  {
   "cell_type": "code",
   "execution_count": 1,
   "metadata": {
    "scrolled": true
   },
   "outputs": [
    {
     "name": "stdout",
     "output_type": "stream",
     "text": [
      "8\n"
     ]
    }
   ],
   "source": [
    "# a mapping\n",
    "# input or an argument\n",
    "def function2(x):\n",
    "    return 2*x\n",
    "a = function2(4)\n",
    "print(a)"
   ]
  },
  {
   "cell_type": "code",
   "execution_count": 5,
   "metadata": {},
   "outputs": [
    {
     "name": "stdout",
     "output_type": "stream",
     "text": [
      "4\n"
     ]
    }
   ],
   "source": [
    "def function3(x, y):\n",
    "    return x + y\n",
    "e = function3(3,1)\n",
    "print(e)"
   ]
  },
  {
   "cell_type": "code",
   "execution_count": 8,
   "metadata": {},
   "outputs": [
    {
     "name": "stdout",
     "output_type": "stream",
     "text": [
      "4\n",
      "stil in this function\n",
      "12\n"
     ]
    }
   ],
   "source": [
    "def function4(x):\n",
    "    print(x)\n",
    "    print(\"stil in this function\")\n",
    "    return 3*x\n",
    "f = function4(4)\n",
    "print(f)"
   ]
  },
  {
   "cell_type": "code",
   "execution_count": 41,
   "metadata": {},
   "outputs": [],
   "source": [
    "# input or an argument\n",
    "def function2(a):\n",
    "    a = function2(1)\n",
    "    print(a)"
   ]
  },
  {
   "cell_type": "code",
   "execution_count": 31,
   "metadata": {},
   "outputs": [
    {
     "name": "stdout",
     "output_type": "stream",
     "text": [
      "HELLO FUNCTION\n"
     ]
    }
   ],
   "source": [
    "\n",
    "def hello_function():\n",
    "    return \"hello function\"\n",
    "print(hello_function().upper())"
   ]
  },
  {
   "cell_type": "code",
   "execution_count": 32,
   "metadata": {
    "scrolled": true
   },
   "outputs": [
    {
     "name": "stdout",
     "output_type": "stream",
     "text": [
      "hello function\n"
     ]
    }
   ],
   "source": [
    "\n",
    "def hello_function():\n",
    "    return \"hello function\"\n",
    "print(hello_function().lower())"
   ]
  },
  {
   "cell_type": "code",
   "execution_count": 4,
   "metadata": {},
   "outputs": [
    {
     "name": "stdout",
     "output_type": "stream",
     "text": [
      "Let's do some math with just functions!\n",
      "adding 30 + 5\n",
      "subtarcting 78 - 4\n",
      "multiplying 90 * 2\n",
      "deviding 100 / 2\n"
     ]
    }
   ],
   "source": [
    "def add(a, b):\n",
    "    print(f\"adding {a} + {b}\")\n",
    "    return a + b\n",
    "\n",
    "def subtarct(a, b):\n",
    "    print(f\"subtarcting {a} - {b}\")\n",
    "    return a - b\n",
    "\n",
    "def multiply(a, b):\n",
    "    print(f\"multiplying {a} * {b}\")\n",
    "    return a * b\n",
    "\n",
    "def devide(a, b):\n",
    "    print(f\"deviding {a} / {b}\")\n",
    "    return a / b\n",
    "print(\"Let's do some math with just functions!\")\n",
    "\n",
    "age = add(30, 5)\n",
    "height = subtarct(78, 4)\n",
    "weight = multiply(90, 2)\n",
    "iq = devide(100, 2)\n"
   ]
  },
  {
   "cell_type": "code",
   "execution_count": 12,
   "metadata": {},
   "outputs": [
    {
     "data": {
      "text/plain": [
       "9"
      ]
     },
     "execution_count": 12,
     "metadata": {},
     "output_type": "execute_result"
    }
   ],
   "source": [
    "def square(b):\n",
    "    b = b*b\n",
    "    return(b)\n",
    "square(3)"
   ]
  },
  {
   "cell_type": "code",
   "execution_count": 20,
   "metadata": {},
   "outputs": [
    {
     "name": "stdout",
     "output_type": "stream",
     "text": [
      "5.0\n"
     ]
    }
   ],
   "source": [
    "def devide(a,b):\n",
    "    c = a/b\n",
    "    print(c)\n",
    "devide(10,2)"
   ]
  },
  {
   "cell_type": "code",
   "execution_count": 21,
   "metadata": {},
   "outputs": [
    {
     "name": "stdout",
     "output_type": "stream",
     "text": [
      "241\n"
     ]
    }
   ],
   "source": [
    "def devide(a,b):\n",
    "    c = 2*a*a + 2*a*b +1\n",
    "    print(c)\n",
    "devide(10,2)"
   ]
  },
  {
   "cell_type": "code",
   "execution_count": 22,
   "metadata": {},
   "outputs": [
    {
     "name": "stdout",
     "output_type": "stream",
     "text": [
      "37.77777777777778\n"
     ]
    }
   ],
   "source": [
    "# Farenheit to Celcius conversion\n",
    "def celcius(f):\n",
    "    c = (f - 32)/1.8\n",
    "    print(c)\n",
    "celcius(100)"
   ]
  },
  {
   "cell_type": "code",
   "execution_count": 62,
   "metadata": {},
   "outputs": [
    {
     "name": "stdout",
     "output_type": "stream",
     "text": [
      "Hello Karim\n"
     ]
    }
   ],
   "source": [
    "def say_hello_world(your_name):\n",
    "    print(f\"Hello {your_name}\")\n",
    "say_hello_world(\"Karim\")"
   ]
  },
  {
   "cell_type": "code",
   "execution_count": 45,
   "metadata": {},
   "outputs": [
    {
     "data": {
      "text/plain": [
       "9.0"
      ]
     },
     "execution_count": 45,
     "metadata": {},
     "output_type": "execute_result"
    }
   ],
   "source": [
    "# Find triangle area \n",
    "def triangle_area(b, h):\n",
    "    \"\"\" returns the area of a triangle with base b and height h.\"\"\"\n",
    "    return 0.5 * 3 * 6\n",
    "\n",
    "triangle_area(3, 6)\n"
   ]
  },
  {
   "cell_type": "code",
   "execution_count": 46,
   "metadata": {},
   "outputs": [
    {
     "data": {
      "text/plain": [
       "9.0"
      ]
     },
     "execution_count": 46,
     "metadata": {},
     "output_type": "execute_result"
    }
   ],
   "source": [
    "# Find triangle area \n",
    "def triangle_area(b, h):\n",
    "    return 0.5 * 3 * 6\n",
    "\n",
    "triangle_area(3, 6)"
   ]
  },
  {
   "cell_type": "code",
   "execution_count": 50,
   "metadata": {},
   "outputs": [
    {
     "data": {
      "text/plain": [
       "172.72"
      ]
     },
     "execution_count": 50,
     "metadata": {},
     "output_type": "execute_result"
    }
   ],
   "source": [
    "# Converts a lenght from feet and inches to centimeters\n",
    "def cm(feet = 0, inches = 0):\n",
    "    \"\"\"Converts a lenght from feet and inches to centimeters\"\"\"\n",
    "    inches_to_cm = inches * 2.54\n",
    "    feet_to_cm = feet * 12 * 2.54 \n",
    "    return inches_to_cm + feet_to_cm\n",
    "cm(feet = 3)\n",
    "cm(inches = 70)\n",
    "cm(feet = 5, inches = 8)"
   ]
  },
  {
   "cell_type": "code",
   "execution_count": 95,
   "metadata": {
    "scrolled": true
   },
   "outputs": [
    {
     "data": {
      "text/plain": [
       "10548"
      ]
     },
     "execution_count": 95,
     "metadata": {},
     "output_type": "execute_result"
    }
   ],
   "source": [
    "# Money converter USD to UZB\n",
    "def uzb(usd = 0, uzb = 0):\n",
    "    uzb_to_usd = usd * 10548\n",
    "    return uzb_to_usd\n",
    "uzb(usd = 1)"
   ]
  },
  {
   "cell_type": "code",
   "execution_count": null,
   "metadata": {},
   "outputs": [],
   "source": []
  },
  {
   "cell_type": "code",
   "execution_count": null,
   "metadata": {},
   "outputs": [],
   "source": []
  },
  {
   "cell_type": "code",
   "execution_count": null,
   "metadata": {},
   "outputs": [],
   "source": []
  }
 ],
 "metadata": {
  "kernelspec": {
   "display_name": "Python 3",
   "language": "python",
   "name": "python3"
  },
  "language_info": {
   "codemirror_mode": {
    "name": "ipython",
    "version": 3
   },
   "file_extension": ".py",
   "mimetype": "text/x-python",
   "name": "python",
   "nbconvert_exporter": "python",
   "pygments_lexer": "ipython3",
   "version": "3.8.5"
  }
 },
 "nbformat": 4,
 "nbformat_minor": 4
}
